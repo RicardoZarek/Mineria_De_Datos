{
 "cells": [
  {
   "cell_type": "code",
   "execution_count": 3,
   "metadata": {},
   "outputs": [
    {
     "name": "stdout",
     "output_type": "stream",
     "text": [
      "Ricardo Zarek Sanchez Olvera 1795134 GPO 003\n"
     ]
    }
   ],
   "source": [
    "print(\"Ricardo Zarek Sanchez Olvera 1795134 GPO 003\")"
   ]
  },
  {
   "cell_type": "markdown",
   "metadata": {},
   "source": [
    "Ejercicio 1\n",
    "\n",
    "Realiza una variable con tu matricula y realiza una secuencia de imprimir con tu nombre y tu matricula concatenados."
   ]
  },
  {
   "cell_type": "code",
   "execution_count": 9,
   "metadata": {},
   "outputs": [
    {
     "name": "stdout",
     "output_type": "stream",
     "text": [
      "Hola Ricardo Zarek 1795134\n"
     ]
    }
   ],
   "source": [
    "i = \"Ricardo Zarek\"\n",
    "j = \"1795134\"\n",
    "k= i + \" \" + j\n",
    "print(\"Hola\",k)"
   ]
  },
  {
   "cell_type": "markdown",
   "metadata": {},
   "source": [
    "Ejercicio 2\n",
    "\n",
    "Pidiendo el input del usuario pide dos números y crea una pequeña calculadora con los operadores básicos de suma, resta, multiplicación, división, y exponente. Utilizando el loop de while"
   ]
  },
  {
   "cell_type": "code",
   "execution_count": 11,
   "metadata": {},
   "outputs": [
    {
     "name": "stdout",
     "output_type": "stream",
     "text": [
      "**********CALCULADORA**********\n",
      "1.Suma\n",
      "2.Resta\n",
      "3.Multiplicacion\n",
      "4.Division\n",
      "5.Exponente\n",
      "0.Salir\n",
      "Introduce la operacion que deseas realizar: 2\n",
      "Introdcue el primer numero: 5\n",
      "Introduce el segundo numero: 3\n",
      "El resultado de A - B es:  2.0\n",
      "**********CALCULADORA**********\n",
      "1.Suma\n",
      "2.Resta\n",
      "3.Multiplicacion\n",
      "4.Division\n",
      "5.Exponente\n",
      "0.Salir\n",
      "Introduce la operacion que deseas realizar: 0\n",
      "Apagando calculadora....\n",
      "Ya ha salido de la calculadora\n"
     ]
    }
   ],
   "source": [
    "opcion = 10\n",
    "while opcion!=0:\n",
    "    print(\"**********CALCULADORA**********\")\n",
    "    print(\"1.Suma\")\n",
    "    print(\"2.Resta\")\n",
    "    print(\"3.Multiplicacion\")\n",
    "    print(\"4.Division\")\n",
    "    print(\"5.Exponente\")\n",
    "    print(\"0.Salir\")\n",
    "    opcion = int(input(\"Introduce la operacion que deseas realizar: \"))\n",
    "   \n",
    "    if opcion == 1:\n",
    "        a = float(input(\"Introdcue el primer numero: \"))\n",
    "        b = float(input(\"Introduce el segundo numero: \"))\n",
    "        r = a + b\n",
    "        print(\"El resultado de A + B es: \",r)\n",
    "    elif opcion == 2:\n",
    "        a = float(input(\"Introdcue el primer numero: \"))\n",
    "        b = float(input(\"Introduce el segundo numero: \"))\n",
    "        r = a - b\n",
    "        print(\"El resultado de A - B es: \",r)\n",
    "    elif opcion == 3:\n",
    "        a = float(input(\"Introdcue el primer numero: \"))\n",
    "        b = float(input(\"Introduce el segundo numero: \"))\n",
    "        r = a * b\n",
    "        print(\"El resultado de A * B es: \",r)\n",
    "    elif opcion == 4:\n",
    "        a = float(input(\"Introdcue el primer numero: \"))\n",
    "        b = float(input(\"Introduce el segundo numero: \"))\n",
    "        r = float(a)/b\n",
    "        print(\"El resultado de A / B es: \",r)\n",
    "    elif opcion == 5:\n",
    "        a = float(input(\"Introdcue el primer numero: \"))\n",
    "        b = float(input(\"Introduce el segundo numero: \"))\n",
    "        r = a**b\n",
    "        print(\"El resultado de A ** B es: \",r)\n",
    "    else:\n",
    "        print(\"Apagando calculadora....\")\n",
    "        \n",
    "\n",
    "print(\"Ya ha salido de la calculadora\")"
   ]
  },
  {
   "cell_type": "markdown",
   "metadata": {},
   "source": [
    "Ejercicio 3\n",
    "\n",
    "Con loop while o for, realiza una lista de 10 numeros multiplos de 3, y después realiza una función de loop que sume todos los números dentro del arreglo."
   ]
  },
  {
   "cell_type": "code",
   "execution_count": 12,
   "metadata": {},
   "outputs": [
    {
     "name": "stdout",
     "output_type": "stream",
     "text": [
      "La lista es:  [3, 6, 9, 12, 15, 18, 21, 24, 27, 30]\n",
      "La suma del arreglo es:  165\n"
     ]
    }
   ],
   "source": [
    "lis = []\n",
    "for i in range(0,10,1):\n",
    "    lis.append((i+1)*3)\n",
    "\n",
    "print(\"La lista es: \",lis)\n",
    "s=0\n",
    "for i in range(0,10,1):\n",
    "    s=s+lis[i]\n",
    "    \n",
    "print(\"La suma del arreglo es: \",s)"
   ]
  },
  {
   "cell_type": "markdown",
   "metadata": {},
   "source": [
    "Ejercicio 4\n",
    "\n",
    "Con una función de if else, revisar si un número es par o es impar.\n",
    "Con una función de if else, revisar si un número es primo o no."
   ]
  },
  {
   "cell_type": "code",
   "execution_count": 14,
   "metadata": {},
   "outputs": [
    {
     "name": "stdout",
     "output_type": "stream",
     "text": [
      "Introduce un numero: 4\n",
      "El numero tecleado  4 es un numero par\n",
      "El numero tecleado 4 no es primo\n"
     ]
    }
   ],
   "source": [
    "num = int(input(\"Introduce un numero: \"))\n",
    "if num%2==0:\n",
    "    print(\"El numero tecleado \",num,\"es un numero par\")\n",
    "else:\n",
    "    print(\"El numero tecleado \",num,\"es un numero impar\")\n",
    "\n",
    "c=0\n",
    "primo = 0\n",
    "for i in range(1,num+1):\n",
    "    if (num%i)==0:\n",
    "        c=c+1\n",
    "    if c>=3:\n",
    "        primo= 1\n",
    "        break\n",
    "        \n",
    "if c==2 or primo==0:\n",
    "    print(\"El numero tecleado\", num,\" es primo\")\n",
    "else:\n",
    "    print(\"El numero tecleado\", num,\"no es primo\")"
   ]
  },
  {
   "cell_type": "raw",
   "metadata": {},
   "source": [
    "Ejercicio 5\n",
    "\n",
    "Utilizando diferentes clases en python, crea una calculadora con los operadores básicos de suma, resta, multiplicación, división, y exponente."
   ]
  },
  {
   "cell_type": "code",
   "execution_count": 16,
   "metadata": {},
   "outputs": [
    {
     "name": "stdout",
     "output_type": "stream",
     "text": [
      "**********CALCULADORA**********\n",
      "1.Suma\n",
      "2.Resta\n",
      "3.Multiplicacion\n",
      "4.Division\n",
      "5.Exponente\n",
      "0.Salir\n",
      "Introduce la operacion que deseas realizar: 1\n",
      "Introdcue el primer numero: 2\n",
      "Introduce el segundo numero: 2\n",
      "El resultado de A + B es:  4.0\n",
      "**********CALCULADORA**********\n",
      "1.Suma\n",
      "2.Resta\n",
      "3.Multiplicacion\n",
      "4.Division\n",
      "5.Exponente\n",
      "0.Salir\n",
      "Introduce la operacion que deseas realizar: 5\n",
      "Introdcue el primer numero: 5\n",
      "Introduce el segundo numero: 5\n",
      "El resultado de A ** B es:  3125.0\n",
      "**********CALCULADORA**********\n",
      "1.Suma\n",
      "2.Resta\n",
      "3.Multiplicacion\n",
      "4.Division\n",
      "5.Exponente\n",
      "0.Salir\n",
      "Introduce la operacion que deseas realizar: 0\n",
      "Apagando calculadora....\n",
      "Ya ha salido de la calculadora\n"
     ]
    }
   ],
   "source": [
    "def s(a,b):\n",
    "    return a+b\n",
    "def r(a,b):\n",
    "    return a-b\n",
    "def m(a,b):\n",
    "    return a*b\n",
    "def d(a,b):\n",
    "    return a/b\n",
    "def e(a,b):\n",
    "    return a**b\n",
    "\n",
    "\n",
    "opcion = 10\n",
    "while opcion!=0:\n",
    "    print(\"**********CALCULADORA**********\")\n",
    "    print(\"1.Suma\")\n",
    "    print(\"2.Resta\")\n",
    "    print(\"3.Multiplicacion\")\n",
    "    print(\"4.Division\")\n",
    "    print(\"5.Exponente\")\n",
    "    print(\"0.Salir\")\n",
    "    opcion = int(input(\"Introduce la operacion que deseas realizar: \"))\n",
    "   \n",
    "    if opcion == 1:\n",
    "        a = float(input(\"Introdcue el primer numero: \"))\n",
    "        b = float(input(\"Introduce el segundo numero: \"))\n",
    "        res = s(a,b)\n",
    "        print(\"El resultado de A + B es: \",res)\n",
    "    elif opcion == 2:\n",
    "        a = float(input(\"Introdcue el primer numero: \"))\n",
    "        b = float(input(\"Introduce el segundo numero: \"))\n",
    "        res = r(a,b)\n",
    "        print(\"El resultado de A - B es: \",res)\n",
    "    elif opcion == 3:\n",
    "        a = float(input(\"Introdcue el primer numero: \"))\n",
    "        b = float(input(\"Introduce el segundo numero: \"))\n",
    "        res = m(a,b)\n",
    "        print(\"El resultado de A * B es: \",res)\n",
    "    elif opcion == 4:\n",
    "        a = float(input(\"Introdcue el primer numero: \"))\n",
    "        b = float(input(\"Introduce el segundo numero: \"))\n",
    "        res = d(a,b) \n",
    "        print(\"El resultado de A / B es: \",res)\n",
    "    elif opcion == 5:\n",
    "        a = float(input(\"Introdcue el primer numero: \"))\n",
    "        b = float(input(\"Introduce el segundo numero: \"))\n",
    "        res = e(a,b)\n",
    "        print(\"El resultado de A ** B es: \",res)\n",
    "    else:\n",
    "        print(\"Apagando calculadora....\")\n",
    "        \n",
    "\n",
    "print(\"Ya ha salido de la calculadora\")"
   ]
  },
  {
   "cell_type": "markdown",
   "metadata": {},
   "source": [
    "Ejercicios con estructuras basicas de Python\n",
    "\n",
    "Tuplas\n",
    "\n",
    "Crear una variable flotante, integer, boleana y compleja e imprimir el tipo de variable que es.\n",
    "\n",
    "Crear una tupla con valores enteros imprimir el primer y ultimo valor.\n",
    "\n",
    "Añadir 3 valores de string a la tupla.\n",
    "\n",
    "Verificar si una variable existe dentro de la tupla"
   ]
  },
  {
   "cell_type": "code",
   "execution_count": 23,
   "metadata": {},
   "outputs": [
    {
     "name": "stdout",
     "output_type": "stream",
     "text": [
      "El numero  9.8 es de tipo <class 'float'>\n",
      "El numero  1 es de tipo <class 'int'>\n",
      "El numero  True es de tipo <class 'bool'>\n",
      "El numero  (2-1j) es de tipo <class 'complex'>\n"
     ]
    }
   ],
   "source": [
    "f=9.8\n",
    "i=1\n",
    "b=True \n",
    "c=2-1j\n",
    "print(\"El numero \",f,\"es de tipo\",type(f))\n",
    "print(\"El numero \",i,\"es de tipo\",type(i))\n",
    "print(\"El numero \",b,\"es de tipo\",type(b))\n",
    "print(\"El numero \",c,\"es de tipo\",type(c))"
   ]
  },
  {
   "cell_type": "code",
   "execution_count": 25,
   "metadata": {},
   "outputs": [
    {
     "name": "stdout",
     "output_type": "stream",
     "text": [
      "El primer valor es de  2 y el ultimo valor es de  20\n"
     ]
    }
   ],
   "source": [
    "t=(2,4,6,8,10,12,14,16,18,20)\n",
    "print(\"El primer valor es de \",t[0],\"y el ultimo valor es de \",t[-1])"
   ]
  },
  {
   "cell_type": "code",
   "execution_count": 26,
   "metadata": {},
   "outputs": [
    {
     "name": "stdout",
     "output_type": "stream",
     "text": [
      "(2, 4, 6, 8, 10, 12, 14, 16, 18, 20, 'Espero', 'estes', 'bien')\n"
     ]
    }
   ],
   "source": [
    "t=t+(\"Espero\",\"estes\",\"bien\")\n",
    "print(t)"
   ]
  },
  {
   "cell_type": "code",
   "execution_count": 30,
   "metadata": {},
   "outputs": [
    {
     "data": {
      "text/plain": [
       "True"
      ]
     },
     "execution_count": 30,
     "metadata": {},
     "output_type": "execute_result"
    }
   ],
   "source": [
    "20 in t"
   ]
  },
  {
   "cell_type": "markdown",
   "metadata": {},
   "source": [
    "Listas\n",
    "\n",
    "\n",
    "Crear una lista con 40 elementos aleatorios enteros.\n",
    "\n",
    "Con una funcion (def) crear dos listas nuevas a partir de la lista creada por numeros aleatorios, en la cual en una esten los elementos pares, y en la otra los elementos impares.\n",
    "\n",
    "Crear dos variables con la longitud de ambas listas nuevas e imprimir las variables.\n",
    "\n",
    "Ordenar los elementos de la lista par de mayor a menor, y los de la lista impar de menor a mayor.\n",
    "\n",
    "Utilizar al menos cuatro de las funciones de listas en python en la lista original de 40 elementos."
   ]
  },
  {
   "cell_type": "code",
   "execution_count": 77,
   "metadata": {},
   "outputs": [
    {
     "name": "stdout",
     "output_type": "stream",
     "text": [
      "[4, 61, 76, 9, 55, 46, 3, 39, 11, 12, 39, 53, 66, 39, 60, 10, 58, 59, 77, 50, 76, 14, 49, 61, 11, 25, 44, 41, 9, 14, 80, 80, 79, 55, 76, 36, 33, 62, 72, 62]\n"
     ]
    }
   ],
   "source": [
    "from random import randint\n",
    "lista=[randint(1,80) for i in range(40)]\n",
    "print(lista)"
   ]
  },
  {
   "cell_type": "code",
   "execution_count": 78,
   "metadata": {},
   "outputs": [
    {
     "name": "stdout",
     "output_type": "stream",
     "text": [
      "Los numeros pares son los siguientes:  [4, 76, 46, 12, 66, 60, 10, 58, 50, 76, 14, 44, 14, 80, 80, 76, 36, 62, 72, 62]\n",
      "Los numeros impares son los siguientes:  [61, 9, 55, 3, 39, 11, 39, 53, 39, 59, 77, 49, 61, 11, 25, 41, 9, 79, 55, 33]\n"
     ]
    }
   ],
   "source": [
    "def paresimpares(lista):\n",
    "    pares=[]\n",
    "    impares=[]\n",
    "    for i in range(len(lista)):\n",
    "        if lista[i]%2==0:\n",
    "            pares.append(lista[i])\n",
    "        else:\n",
    "            impares.append(lista[i])\n",
    "        \n",
    "    return pares,impares\n",
    "\n",
    "pares,impares=paresimpares(lista)\n",
    "print(\"Los numeros pares son los siguientes: \", pares)\n",
    "print(\"Los numeros impares son los siguientes: \",impares)"
   ]
  },
  {
   "cell_type": "code",
   "execution_count": 79,
   "metadata": {},
   "outputs": [
    {
     "name": "stdout",
     "output_type": "stream",
     "text": [
      "La longitud de los numeros pares es de:  20\n",
      "La longitud de los numeros impares es de:  20\n"
     ]
    }
   ],
   "source": [
    "longpares=len(pares)\n",
    "longimpares=len(impares)\n",
    "\n",
    "print(\"La longitud de los numeros pares es de: \",longpares)\n",
    "print(\"La longitud de los numeros impares es de: \",longimpares)"
   ]
  },
  {
   "cell_type": "code",
   "execution_count": 80,
   "metadata": {},
   "outputs": [
    {
     "name": "stdout",
     "output_type": "stream",
     "text": [
      "Numeros pares ordenados de mayor a menor:  [80, 80, 76, 76, 76, 72, 66, 62, 62, 60, 58, 50, 46, 44, 36, 14, 14, 12, 10, 4]\n",
      "Numeros impares ordenados de menor a mayor:  [3, 9, 9, 11, 11, 25, 33, 39, 39, 39, 41, 49, 53, 55, 55, 59, 61, 61, 77, 79]\n"
     ]
    }
   ],
   "source": [
    "pares.sort(reverse=True)\n",
    "impares.sort()\n",
    "\n",
    "print(\"Numeros pares ordenados de mayor a menor: \",pares)\n",
    "print(\"Numeros impares ordenados de menor a mayor: \",impares)"
   ]
  },
  {
   "cell_type": "code",
   "execution_count": 81,
   "metadata": {},
   "outputs": [
    {
     "name": "stdout",
     "output_type": "stream",
     "text": [
      "[66, 17, 16, 29, 44, 52, 58, 30, 76, 21, 74, 50, 15, 14, 42, 13, 58, 13, 40, 38, 26, 68, 56, 24, 72, 39, 5, 42, 34, 8, 36, 76, 59, 23, 70, 10, 17, 26, 58]\n"
     ]
    }
   ],
   "source": [
    "from random import randint\n",
    "lista=[randint(1,80) for _ in range(40)]\n",
    "\n",
    "lista.pop(3)\n",
    "print(lista)"
   ]
  },
  {
   "cell_type": "code",
   "execution_count": 82,
   "metadata": {},
   "outputs": [
    {
     "name": "stdout",
     "output_type": "stream",
     "text": [
      "[58, 26, 17, 10, 70, 23, 59, 76, 36, 8, 34, 42, 5, 39, 72, 24, 56, 68, 26, 38, 40, 13, 58, 13, 42, 14, 15, 50, 74, 21, 76, 30, 58, 52, 44, 29, 16, 17, 66]\n"
     ]
    }
   ],
   "source": [
    "lista.reverse()\n",
    "print(lista)"
   ]
  },
  {
   "cell_type": "code",
   "execution_count": 83,
   "metadata": {},
   "outputs": [
    {
     "name": "stdout",
     "output_type": "stream",
     "text": [
      "26\n"
     ]
    }
   ],
   "source": [
    "print(lista.index(15))"
   ]
  },
  {
   "cell_type": "code",
   "execution_count": 84,
   "metadata": {},
   "outputs": [
    {
     "name": "stdout",
     "output_type": "stream",
     "text": [
      "[58, 26, 17, 10, 70, 23, 59, 76, 36, 8, 34, 42, 5, 39, 72, 24, 56, 68, 26, 38, 1500, 40, 13, 58, 13, 42, 14, 15, 50, 74, 21, 76, 30, 58, 52, 44, 29, 16, 17, 66]\n"
     ]
    }
   ],
   "source": [
    "lista.insert(20, 1500)\n",
    "print(lista)"
   ]
  },
  {
   "cell_type": "markdown",
   "metadata": {},
   "source": [
    "Diccionarios\n",
    "\n",
    "\n",
    "Crear un diccionario de 6 personas que conozcas con su primer nombre y su edad.\n",
    "\n",
    "Crear una lista con los valores de la edad y reacomodar la lista de menor a mayor valor.\n",
    "\n",
    "Usando el diccionario y un loop, imprimir solo los nombres.\n",
    "\n",
    "Añadir dos personas nuevas a tu diccionario, incluyendo edad."
   ]
  },
  {
   "cell_type": "code",
   "execution_count": 85,
   "metadata": {},
   "outputs": [
    {
     "name": "stdout",
     "output_type": "stream",
     "text": [
      "{'Zarek': 20, 'Ramses': 23, 'Sandra': 24, 'Karla': 23, 'Saul': 22, 'Andres': 25}\n"
     ]
    }
   ],
   "source": [
    "n={\"Zarek\":20,\"Ramses\":23,\"Sandra\":24,\"Karla\":23,\"Saul\":22,\"Andres\":25}\n",
    "print(n)"
   ]
  },
  {
   "cell_type": "code",
   "execution_count": 86,
   "metadata": {},
   "outputs": [
    {
     "name": "stdout",
     "output_type": "stream",
     "text": [
      "[20, 22, 23, 23, 24, 25]\n"
     ]
    }
   ],
   "source": [
    "orden=[i for i in n.values()]\n",
    "\n",
    "orden.sort()\n",
    "print(orden)"
   ]
  },
  {
   "cell_type": "code",
   "execution_count": 87,
   "metadata": {},
   "outputs": [
    {
     "name": "stdout",
     "output_type": "stream",
     "text": [
      "Zarek\n",
      "Ramses\n",
      "Sandra\n",
      "Karla\n",
      "Saul\n",
      "Andres\n"
     ]
    }
   ],
   "source": [
    "for i in n:\n",
    "    print(i)"
   ]
  },
  {
   "cell_type": "code",
   "execution_count": 88,
   "metadata": {},
   "outputs": [
    {
     "name": "stdout",
     "output_type": "stream",
     "text": [
      "{'Zarek': 20, 'Ramses': 23, 'Sandra': 24, 'Karla': 23, 'Saul': 22, 'Andres': 25, 'Luis': 28, 'Alicia': 26}\n"
     ]
    }
   ],
   "source": [
    "n[\"Luis\"]=28\n",
    "n[\"Alicia\"]=26\n",
    "print(n)"
   ]
  },
  {
   "cell_type": "markdown",
   "metadata": {},
   "source": [
    "Sets\n",
    "\n",
    "\n",
    "Crea un set con 100 numeros aleatorios enteros del 1 al 25.\n",
    "\n",
    "Comprueba la longitud de tu set.\n",
    "\n",
    "Crea una lista de 5 numeros aleatorios del 1 al 10 y comprueba si cada valor aparece en el set inicial."
   ]
  },
  {
   "cell_type": "code",
   "execution_count": 92,
   "metadata": {},
   "outputs": [
    {
     "name": "stdout",
     "output_type": "stream",
     "text": [
      "[12, 5, 4, 7, 24, 25, 7, 6, 5, 20, 21, 21, 17, 3, 24, 19, 2, 24, 16, 11, 16, 13, 7, 2, 7, 7, 18, 10, 9, 22, 11, 2, 21, 1, 14, 10, 10, 18, 11, 7, 8, 22, 15, 3, 10, 11, 16, 5, 5, 13, 5, 2, 8, 4, 3, 22, 12, 25, 2, 17, 6, 4, 17, 16, 14, 15, 6, 2, 19, 21, 19, 22, 16, 21, 1, 3, 14, 18, 14, 20, 1, 12, 7, 8, 16, 17, 17, 5, 2, 25, 4, 2, 10, 13, 17, 3, 15, 12, 5, 16]\n"
     ]
    }
   ],
   "source": [
    "from random import randint\n",
    "setva=[randint(1,25) for i in range(100)]\n",
    "print(setva)"
   ]
  },
  {
   "cell_type": "code",
   "execution_count": 93,
   "metadata": {},
   "outputs": [
    {
     "name": "stdout",
     "output_type": "stream",
     "text": [
      "100\n"
     ]
    }
   ],
   "source": [
    "print(len(setva))"
   ]
  },
  {
   "cell_type": "code",
   "execution_count": 94,
   "metadata": {},
   "outputs": [
    {
     "name": "stdout",
     "output_type": "stream",
     "text": [
      "[4, 1, 4, 10, 5]\n",
      "El munero 4 si se encuentra dentro del set inicial\n",
      "El munero 1 si se encuentra dentro del set inicial\n",
      "El munero 4 si se encuentra dentro del set inicial\n",
      "El munero 10 si se encuentra dentro del set inicial\n",
      "El munero 5 si se encuentra dentro del set inicial\n"
     ]
    }
   ],
   "source": [
    "comp=[randint(1,10) for i in range(5)]\n",
    "print(comp)\n",
    "\n",
    "for i in range(5):\n",
    "    if comp[i] in setva:\n",
    "        print(\"El munero\",comp[i],\"si se encuentra dentro del set inicial\")\n",
    "    else:\n",
    "        print(\"El munero\",comp[i],\"no se encuentra dentro del set inicial\")"
   ]
  },
  {
   "cell_type": "code",
   "execution_count": null,
   "metadata": {},
   "outputs": [],
   "source": []
  }
 ],
 "metadata": {
  "kernelspec": {
   "display_name": "Python 3",
   "language": "python",
   "name": "python3"
  },
  "language_info": {
   "codemirror_mode": {
    "name": "ipython",
    "version": 3
   },
   "file_extension": ".py",
   "mimetype": "text/x-python",
   "name": "python",
   "nbconvert_exporter": "python",
   "pygments_lexer": "ipython3",
   "version": "3.7.4"
  }
 },
 "nbformat": 4,
 "nbformat_minor": 2
}
